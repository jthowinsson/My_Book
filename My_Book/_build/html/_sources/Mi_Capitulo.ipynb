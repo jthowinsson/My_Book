{
 "cells": [
  {
   "cell_type": "markdown",
   "id": "ca86d4cd",
   "metadata": {},
   "source": [
    "Hola Mundo"
   ]
  }
 ],
 "metadata": {
  "language_info": {
   "name": "python"
  }
 },
 "nbformat": 4,
 "nbformat_minor": 5
}
