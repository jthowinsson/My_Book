{
 "cells": [
  {
   "cell_type": "markdown",
   "id": "ca86d4cd",
   "metadata": {},
   "source": [
    "Hola Mundo"
   ]
  }
 ],
 "metadata": {
  "kernelspec": {
   "display_name": "Python 3.12 (venv_jupyter)",
   "language": "python",
   "name": "venv_jupyter"
  },
  "language_info": {
   "name": "python",
   "version": "3.13.1"
  }
 },
 "nbformat": 4,
 "nbformat_minor": 5
}
